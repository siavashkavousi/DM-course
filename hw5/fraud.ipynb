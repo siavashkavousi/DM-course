{
 "cells": [
  {
   "cell_type": "code",
   "execution_count": 104,
   "metadata": {
    "collapsed": true
   },
   "outputs": [
    {
     "data": {
      "text/html": [
       "\n",
       "<style>\n",
       ".output_png {\n",
       "    display: table-cell;\n",
       "    text-align: center;\n",
       "    vertical-align: middle;\n",
       "}\n",
       "</style>\n"
      ],
      "text/plain": [
       "\n",
       "<style>\n",
       ".output_png {\n",
       "    display: table-cell;\n",
       "    text-align: center;\n",
       "    vertical-align: middle;\n",
       "}\n",
       "</style>\n"
      ]
     },
     "execution_count": 104,
     "metadata": {},
     "output_type": "execute_result"
    }
   ],
   "source": [
    "from IPython.core.display import HTML\n",
    "HTML(\"\"\"\n",
    "<style>\n",
    ".output_png {\n",
    "    display: table-cell;\n",
    "    text-align: center;\n",
    "    vertical-align: middle;\n",
    "}\n",
    "</style>\n",
    "\"\"\")"
   ]
  },
  {
   "cell_type": "code",
   "execution_count": 105,
   "metadata": {},
   "outputs": [],
   "source": [
    "# remove warnings\n",
    "import warnings\n",
    "warnings.filterwarnings('ignore')\n",
    "# ---\n",
    "\n",
    "%matplotlib inline\n",
    "import pandas as pd\n",
    "pd.options.display.max_columns = 100\n",
    "from matplotlib import pyplot as plt\n",
    "import matplotlib\n",
    "matplotlib.style.use('ggplot')\n",
    "import numpy as np\n",
    "import seaborn as sns\n",
    "sns.set(style=\"ticks\")\n",
    "\n",
    "np.random.seed(7)\n",
    "\n",
    "pd.options.display.max_rows = 100"
   ]
  },
  {
   "cell_type": "code",
   "execution_count": 106,
   "metadata": {},
   "outputs": [],
   "source": [
    "train_df = pd.read_csv('hw5/datasets/data_fraud/X_train.csv').sort_index(axis=1)\n",
    "label = pd.read_csv('hw5/datasets/data_fraud/Y_train.csv')\n",
    "data_df = pd.concat([train_df, label], axis=1)"
   ]
  },
  {
   "cell_type": "code",
   "execution_count": 107,
   "metadata": {},
   "outputs": [
    {
     "data": {
      "text/html": [
       "<div>\n",
       "<table border=\"1\" class=\"dataframe\">\n",
       "  <thead>\n",
       "    <tr style=\"text-align: right;\">\n",
       "      <th></th>\n",
       "      <th>amount</th>\n",
       "      <th>customerAttr_a</th>\n",
       "      <th>customerAttr_b</th>\n",
       "      <th>field_a</th>\n",
       "      <th>field_b</th>\n",
       "      <th>field_c</th>\n",
       "      <th>field_d</th>\n",
       "      <th>flag_a</th>\n",
       "      <th>flag_b</th>\n",
       "      <th>flag_c</th>\n",
       "      <th>flag_d</th>\n",
       "      <th>flag_e</th>\n",
       "      <th>hour_a</th>\n",
       "      <th>hour_b</th>\n",
       "      <th>indicator_a</th>\n",
       "      <th>indicator_b</th>\n",
       "      <th>state</th>\n",
       "      <th>total</th>\n",
       "      <th>zip</th>\n",
       "    </tr>\n",
       "  </thead>\n",
       "  <tbody>\n",
       "    <tr>\n",
       "      <th>0</th>\n",
       "      <td>25.90</td>\n",
       "      <td>1234567890197185</td>\n",
       "      <td>redjhmbdzmbzg1226@sbcglobal.net</td>\n",
       "      <td>3</td>\n",
       "      <td>0</td>\n",
       "      <td>2525</td>\n",
       "      <td>8</td>\n",
       "      <td>0</td>\n",
       "      <td>1</td>\n",
       "      <td>0</td>\n",
       "      <td>0</td>\n",
       "      <td>2</td>\n",
       "      <td>0</td>\n",
       "      <td>0</td>\n",
       "      <td>0</td>\n",
       "      <td>0</td>\n",
       "      <td>CA</td>\n",
       "      <td>25.90</td>\n",
       "      <td>945</td>\n",
       "    </tr>\n",
       "    <tr>\n",
       "      <th>1</th>\n",
       "      <td>25.90</td>\n",
       "      <td>1234567890197186</td>\n",
       "      <td>puwelzumjynty@aol.com</td>\n",
       "      <td>0</td>\n",
       "      <td>0</td>\n",
       "      <td>3393</td>\n",
       "      <td>17</td>\n",
       "      <td>0</td>\n",
       "      <td>1</td>\n",
       "      <td>1</td>\n",
       "      <td>0</td>\n",
       "      <td>1</td>\n",
       "      <td>0</td>\n",
       "      <td>0</td>\n",
       "      <td>0</td>\n",
       "      <td>0</td>\n",
       "      <td>CA</td>\n",
       "      <td>25.90</td>\n",
       "      <td>940</td>\n",
       "    </tr>\n",
       "    <tr>\n",
       "      <th>2</th>\n",
       "      <td>49.95</td>\n",
       "      <td>1234567890197187</td>\n",
       "      <td>quhdenwubwydu@earthlink.net</td>\n",
       "      <td>3</td>\n",
       "      <td>1</td>\n",
       "      <td>-737</td>\n",
       "      <td>26</td>\n",
       "      <td>0</td>\n",
       "      <td>1</td>\n",
       "      <td>0</td>\n",
       "      <td>0</td>\n",
       "      <td>1</td>\n",
       "      <td>0</td>\n",
       "      <td>0</td>\n",
       "      <td>0</td>\n",
       "      <td>0</td>\n",
       "      <td>CA</td>\n",
       "      <td>49.95</td>\n",
       "      <td>910</td>\n",
       "    </tr>\n",
       "    <tr>\n",
       "      <th>3</th>\n",
       "      <td>59.40</td>\n",
       "      <td>1234567890197188</td>\n",
       "      <td>lrutfoamzuxjr00@comcast.net</td>\n",
       "      <td>3</td>\n",
       "      <td>0</td>\n",
       "      <td>-2799</td>\n",
       "      <td>23</td>\n",
       "      <td>0</td>\n",
       "      <td>1</td>\n",
       "      <td>0</td>\n",
       "      <td>0</td>\n",
       "      <td>1</td>\n",
       "      <td>0</td>\n",
       "      <td>0</td>\n",
       "      <td>0</td>\n",
       "      <td>0</td>\n",
       "      <td>WA</td>\n",
       "      <td>59.40</td>\n",
       "      <td>986</td>\n",
       "    </tr>\n",
       "    <tr>\n",
       "      <th>4</th>\n",
       "      <td>34.95</td>\n",
       "      <td>1234567890197189</td>\n",
       "      <td>zotfchxiqqdml4035@comcast.net</td>\n",
       "      <td>2</td>\n",
       "      <td>0</td>\n",
       "      <td>900</td>\n",
       "      <td>10</td>\n",
       "      <td>1</td>\n",
       "      <td>1</td>\n",
       "      <td>1</td>\n",
       "      <td>0</td>\n",
       "      <td>1</td>\n",
       "      <td>0</td>\n",
       "      <td>0</td>\n",
       "      <td>0</td>\n",
       "      <td>0</td>\n",
       "      <td>OR</td>\n",
       "      <td>34.95</td>\n",
       "      <td>973</td>\n",
       "    </tr>\n",
       "  </tbody>\n",
       "</table>\n",
       "</div>"
      ],
      "text/plain": [
       "<div>\n",
       "<table border=\"1\" class=\"dataframe\">\n",
       "  <thead>\n",
       "    <tr style=\"text-align: right;\">\n",
       "      <th></th>\n",
       "      <th>amount</th>\n",
       "      <th>customerAttr_a</th>\n",
       "      <th>customerAttr_b</th>\n",
       "      <th>field_a</th>\n",
       "      <th>field_b</th>\n",
       "      <th>field_c</th>\n",
       "      <th>field_d</th>\n",
       "      <th>flag_a</th>\n",
       "      <th>flag_b</th>\n",
       "      <th>flag_c</th>\n",
       "      <th>flag_d</th>\n",
       "      <th>flag_e</th>\n",
       "      <th>hour_a</th>\n",
       "      <th>hour_b</th>\n",
       "      <th>indicator_a</th>\n",
       "      <th>indicator_b</th>\n",
       "      <th>state</th>\n",
       "      <th>total</th>\n",
       "      <th>zip</th>\n",
       "    </tr>\n",
       "  </thead>\n",
       "  <tbody>\n",
       "    <tr>\n",
       "      <th>0</th>\n",
       "      <td>25.90</td>\n",
       "      <td>1234567890197185</td>\n",
       "      <td>redjhmbdzmbzg1226@sbcglobal.net</td>\n",
       "      <td>3</td>\n",
       "      <td>0</td>\n",
       "      <td>2525</td>\n",
       "      <td>8</td>\n",
       "      <td>0</td>\n",
       "      <td>1</td>\n",
       "      <td>0</td>\n",
       "      <td>0</td>\n",
       "      <td>2</td>\n",
       "      <td>0</td>\n",
       "      <td>0</td>\n",
       "      <td>0</td>\n",
       "      <td>0</td>\n",
       "      <td>CA</td>\n",
       "      <td>25.90</td>\n",
       "      <td>945</td>\n",
       "    </tr>\n",
       "    <tr>\n",
       "      <th>1</th>\n",
       "      <td>25.90</td>\n",
       "      <td>1234567890197186</td>\n",
       "      <td>puwelzumjynty@aol.com</td>\n",
       "      <td>0</td>\n",
       "      <td>0</td>\n",
       "      <td>3393</td>\n",
       "      <td>17</td>\n",
       "      <td>0</td>\n",
       "      <td>1</td>\n",
       "      <td>1</td>\n",
       "      <td>0</td>\n",
       "      <td>1</td>\n",
       "      <td>0</td>\n",
       "      <td>0</td>\n",
       "      <td>0</td>\n",
       "      <td>0</td>\n",
       "      <td>CA</td>\n",
       "      <td>25.90</td>\n",
       "      <td>940</td>\n",
       "    </tr>\n",
       "    <tr>\n",
       "      <th>2</th>\n",
       "      <td>49.95</td>\n",
       "      <td>1234567890197187</td>\n",
       "      <td>quhdenwubwydu@earthlink.net</td>\n",
       "      <td>3</td>\n",
       "      <td>1</td>\n",
       "      <td>-737</td>\n",
       "      <td>26</td>\n",
       "      <td>0</td>\n",
       "      <td>1</td>\n",
       "      <td>0</td>\n",
       "      <td>0</td>\n",
       "      <td>1</td>\n",
       "      <td>0</td>\n",
       "      <td>0</td>\n",
       "      <td>0</td>\n",
       "      <td>0</td>\n",
       "      <td>CA</td>\n",
       "      <td>49.95</td>\n",
       "      <td>910</td>\n",
       "    </tr>\n",
       "    <tr>\n",
       "      <th>3</th>\n",
       "      <td>59.40</td>\n",
       "      <td>1234567890197188</td>\n",
       "      <td>lrutfoamzuxjr00@comcast.net</td>\n",
       "      <td>3</td>\n",
       "      <td>0</td>\n",
       "      <td>-2799</td>\n",
       "      <td>23</td>\n",
       "      <td>0</td>\n",
       "      <td>1</td>\n",
       "      <td>0</td>\n",
       "      <td>0</td>\n",
       "      <td>1</td>\n",
       "      <td>0</td>\n",
       "      <td>0</td>\n",
       "      <td>0</td>\n",
       "      <td>0</td>\n",
       "      <td>WA</td>\n",
       "      <td>59.40</td>\n",
       "      <td>986</td>\n",
       "    </tr>\n",
       "    <tr>\n",
       "      <th>4</th>\n",
       "      <td>34.95</td>\n",
       "      <td>1234567890197189</td>\n",
       "      <td>zotfchxiqqdml4035@comcast.net</td>\n",
       "      <td>2</td>\n",
       "      <td>0</td>\n",
       "      <td>900</td>\n",
       "      <td>10</td>\n",
       "      <td>1</td>\n",
       "      <td>1</td>\n",
       "      <td>1</td>\n",
       "      <td>0</td>\n",
       "      <td>1</td>\n",
       "      <td>0</td>\n",
       "      <td>0</td>\n",
       "      <td>0</td>\n",
       "      <td>0</td>\n",
       "      <td>OR</td>\n",
       "      <td>34.95</td>\n",
       "      <td>973</td>\n",
       "    </tr>\n",
       "  </tbody>\n",
       "</table>\n",
       "</div>"
      ]
     },
     "execution_count": 107,
     "metadata": {},
     "output_type": "execute_result"
    }
   ],
   "source": [
    "test_df = pd.read_csv('hw5/datasets/data_fraud/X_test.csv').sort_index(axis=1)\n",
    "test_df.head()"
   ]
  },
  {
   "cell_type": "code",
   "execution_count": 108,
   "metadata": {},
   "outputs": [
    {
     "data": {
      "text/html": [
       "<div>\n",
       "<table border=\"1\" class=\"dataframe\">\n",
       "  <thead>\n",
       "    <tr style=\"text-align: right;\">\n",
       "      <th></th>\n",
       "      <th>amount</th>\n",
       "      <th>customerAttr_a</th>\n",
       "      <th>field_a</th>\n",
       "      <th>field_b</th>\n",
       "      <th>field_c</th>\n",
       "      <th>field_d</th>\n",
       "      <th>flag_a</th>\n",
       "      <th>flag_b</th>\n",
       "      <th>flag_c</th>\n",
       "      <th>flag_d</th>\n",
       "      <th>flag_e</th>\n",
       "      <th>hour_a</th>\n",
       "      <th>hour_b</th>\n",
       "      <th>indicator_a</th>\n",
       "      <th>indicator_b</th>\n",
       "      <th>total</th>\n",
       "      <th>zip</th>\n",
       "    </tr>\n",
       "  </thead>\n",
       "  <tbody>\n",
       "    <tr>\n",
       "      <th>count</th>\n",
       "      <td>100000.000000</td>\n",
       "      <td>1.000000e+05</td>\n",
       "      <td>100000.000000</td>\n",
       "      <td>100000.000000</td>\n",
       "      <td>100000.000000</td>\n",
       "      <td>100000.000000</td>\n",
       "      <td>100000.000000</td>\n",
       "      <td>100000.000000</td>\n",
       "      <td>100000.000000</td>\n",
       "      <td>100000.000000</td>\n",
       "      <td>100000.00000</td>\n",
       "      <td>100000.000000</td>\n",
       "      <td>100000.000000</td>\n",
       "      <td>100000.000000</td>\n",
       "      <td>100000.000000</td>\n",
       "      <td>100000.000000</td>\n",
       "      <td>100000.000000</td>\n",
       "    </tr>\n",
       "    <tr>\n",
       "      <th>mean</th>\n",
       "      <td>26.976580</td>\n",
       "      <td>1.234568e+15</td>\n",
       "      <td>2.368270</td>\n",
       "      <td>0.405380</td>\n",
       "      <td>368.796390</td>\n",
       "      <td>15.026270</td>\n",
       "      <td>0.419710</td>\n",
       "      <td>0.556400</td>\n",
       "      <td>0.391400</td>\n",
       "      <td>0.013730</td>\n",
       "      <td>16.03735</td>\n",
       "      <td>14.016050</td>\n",
       "      <td>14.030530</td>\n",
       "      <td>0.113370</td>\n",
       "      <td>0.017850</td>\n",
       "      <td>26.976580</td>\n",
       "      <td>544.307340</td>\n",
       "    </tr>\n",
       "    <tr>\n",
       "      <th>std</th>\n",
       "      <td>14.595018</td>\n",
       "      <td>2.140113e+04</td>\n",
       "      <td>0.998768</td>\n",
       "      <td>0.490968</td>\n",
       "      <td>4151.204585</td>\n",
       "      <td>6.450308</td>\n",
       "      <td>0.493514</td>\n",
       "      <td>0.496811</td>\n",
       "      <td>0.488066</td>\n",
       "      <td>0.116368</td>\n",
       "      <td>191.19456</td>\n",
       "      <td>5.415115</td>\n",
       "      <td>5.409443</td>\n",
       "      <td>0.317046</td>\n",
       "      <td>0.132407</td>\n",
       "      <td>14.595018</td>\n",
       "      <td>317.286574</td>\n",
       "    </tr>\n",
       "    <tr>\n",
       "      <th>min</th>\n",
       "      <td>0.000000</td>\n",
       "      <td>1.234568e+15</td>\n",
       "      <td>0.000000</td>\n",
       "      <td>0.000000</td>\n",
       "      <td>-26803.000000</td>\n",
       "      <td>6.000000</td>\n",
       "      <td>0.000000</td>\n",
       "      <td>0.000000</td>\n",
       "      <td>0.000000</td>\n",
       "      <td>0.000000</td>\n",
       "      <td>0.00000</td>\n",
       "      <td>0.000000</td>\n",
       "      <td>0.000000</td>\n",
       "      <td>0.000000</td>\n",
       "      <td>0.000000</td>\n",
       "      <td>0.000000</td>\n",
       "      <td>6.000000</td>\n",
       "    </tr>\n",
       "    <tr>\n",
       "      <th>25%</th>\n",
       "      <td>12.950000</td>\n",
       "      <td>1.234568e+15</td>\n",
       "      <td>2.000000</td>\n",
       "      <td>0.000000</td>\n",
       "      <td>-2260.000000</td>\n",
       "      <td>9.000000</td>\n",
       "      <td>0.000000</td>\n",
       "      <td>0.000000</td>\n",
       "      <td>0.000000</td>\n",
       "      <td>0.000000</td>\n",
       "      <td>1.00000</td>\n",
       "      <td>11.000000</td>\n",
       "      <td>11.000000</td>\n",
       "      <td>0.000000</td>\n",
       "      <td>0.000000</td>\n",
       "      <td>12.950000</td>\n",
       "      <td>279.000000</td>\n",
       "    </tr>\n",
       "    <tr>\n",
       "      <th>50%</th>\n",
       "      <td>25.900000</td>\n",
       "      <td>1.234568e+15</td>\n",
       "      <td>3.000000</td>\n",
       "      <td>0.000000</td>\n",
       "      <td>1093.000000</td>\n",
       "      <td>15.000000</td>\n",
       "      <td>0.000000</td>\n",
       "      <td>1.000000</td>\n",
       "      <td>0.000000</td>\n",
       "      <td>0.000000</td>\n",
       "      <td>1.00000</td>\n",
       "      <td>14.000000</td>\n",
       "      <td>14.000000</td>\n",
       "      <td>0.000000</td>\n",
       "      <td>0.000000</td>\n",
       "      <td>25.900000</td>\n",
       "      <td>535.000000</td>\n",
       "    </tr>\n",
       "    <tr>\n",
       "      <th>75%</th>\n",
       "      <td>38.850000</td>\n",
       "      <td>1.234568e+15</td>\n",
       "      <td>3.000000</td>\n",
       "      <td>1.000000</td>\n",
       "      <td>3517.250000</td>\n",
       "      <td>20.000000</td>\n",
       "      <td>1.000000</td>\n",
       "      <td>1.000000</td>\n",
       "      <td>1.000000</td>\n",
       "      <td>0.000000</td>\n",
       "      <td>1.00000</td>\n",
       "      <td>18.000000</td>\n",
       "      <td>18.000000</td>\n",
       "      <td>0.000000</td>\n",
       "      <td>0.000000</td>\n",
       "      <td>38.850000</td>\n",
       "      <td>891.000000</td>\n",
       "    </tr>\n",
       "    <tr>\n",
       "      <th>max</th>\n",
       "      <td>59.950000</td>\n",
       "      <td>1.234568e+15</td>\n",
       "      <td>4.000000</td>\n",
       "      <td>1.000000</td>\n",
       "      <td>8169.000000</td>\n",
       "      <td>44.000000</td>\n",
       "      <td>1.000000</td>\n",
       "      <td>1.000000</td>\n",
       "      <td>1.000000</td>\n",
       "      <td>1.000000</td>\n",
       "      <td>3278.00000</td>\n",
       "      <td>23.000000</td>\n",
       "      <td>23.000000</td>\n",
       "      <td>1.000000</td>\n",
       "      <td>1.000000</td>\n",
       "      <td>59.950000</td>\n",
       "      <td>999.000000</td>\n",
       "    </tr>\n",
       "  </tbody>\n",
       "</table>\n",
       "</div>"
      ],
      "text/plain": [
       "<div>\n",
       "<table border=\"1\" class=\"dataframe\">\n",
       "  <thead>\n",
       "    <tr style=\"text-align: right;\">\n",
       "      <th></th>\n",
       "      <th>amount</th>\n",
       "      <th>customerAttr_a</th>\n",
       "      <th>field_a</th>\n",
       "      <th>field_b</th>\n",
       "      <th>field_c</th>\n",
       "      <th>field_d</th>\n",
       "      <th>flag_a</th>\n",
       "      <th>flag_b</th>\n",
       "      <th>flag_c</th>\n",
       "      <th>flag_d</th>\n",
       "      <th>flag_e</th>\n",
       "      <th>hour_a</th>\n",
       "      <th>hour_b</th>\n",
       "      <th>indicator_a</th>\n",
       "      <th>indicator_b</th>\n",
       "      <th>total</th>\n",
       "      <th>zip</th>\n",
       "    </tr>\n",
       "  </thead>\n",
       "  <tbody>\n",
       "    <tr>\n",
       "      <th>count</th>\n",
       "      <td>100000.000000</td>\n",
       "      <td>1.000000e+05</td>\n",
       "      <td>100000.000000</td>\n",
       "      <td>100000.000000</td>\n",
       "      <td>100000.000000</td>\n",
       "      <td>100000.000000</td>\n",
       "      <td>100000.000000</td>\n",
       "      <td>100000.000000</td>\n",
       "      <td>100000.000000</td>\n",
       "      <td>100000.000000</td>\n",
       "      <td>100000.00000</td>\n",
       "      <td>100000.000000</td>\n",
       "      <td>100000.000000</td>\n",
       "      <td>100000.000000</td>\n",
       "      <td>100000.000000</td>\n",
       "      <td>100000.000000</td>\n",
       "      <td>100000.000000</td>\n",
       "    </tr>\n",
       "    <tr>\n",
       "      <th>mean</th>\n",
       "      <td>26.976580</td>\n",
       "      <td>1.234568e+15</td>\n",
       "      <td>2.368270</td>\n",
       "      <td>0.405380</td>\n",
       "      <td>368.796390</td>\n",
       "      <td>15.026270</td>\n",
       "      <td>0.419710</td>\n",
       "      <td>0.556400</td>\n",
       "      <td>0.391400</td>\n",
       "      <td>0.013730</td>\n",
       "      <td>16.03735</td>\n",
       "      <td>14.016050</td>\n",
       "      <td>14.030530</td>\n",
       "      <td>0.113370</td>\n",
       "      <td>0.017850</td>\n",
       "      <td>26.976580</td>\n",
       "      <td>544.307340</td>\n",
       "    </tr>\n",
       "    <tr>\n",
       "      <th>std</th>\n",
       "      <td>14.595018</td>\n",
       "      <td>2.140113e+04</td>\n",
       "      <td>0.998768</td>\n",
       "      <td>0.490968</td>\n",
       "      <td>4151.204585</td>\n",
       "      <td>6.450308</td>\n",
       "      <td>0.493514</td>\n",
       "      <td>0.496811</td>\n",
       "      <td>0.488066</td>\n",
       "      <td>0.116368</td>\n",
       "      <td>191.19456</td>\n",
       "      <td>5.415115</td>\n",
       "      <td>5.409443</td>\n",
       "      <td>0.317046</td>\n",
       "      <td>0.132407</td>\n",
       "      <td>14.595018</td>\n",
       "      <td>317.286574</td>\n",
       "    </tr>\n",
       "    <tr>\n",
       "      <th>min</th>\n",
       "      <td>0.000000</td>\n",
       "      <td>1.234568e+15</td>\n",
       "      <td>0.000000</td>\n",
       "      <td>0.000000</td>\n",
       "      <td>-26803.000000</td>\n",
       "      <td>6.000000</td>\n",
       "      <td>0.000000</td>\n",
       "      <td>0.000000</td>\n",
       "      <td>0.000000</td>\n",
       "      <td>0.000000</td>\n",
       "      <td>0.00000</td>\n",
       "      <td>0.000000</td>\n",
       "      <td>0.000000</td>\n",
       "      <td>0.000000</td>\n",
       "      <td>0.000000</td>\n",
       "      <td>0.000000</td>\n",
       "      <td>6.000000</td>\n",
       "    </tr>\n",
       "    <tr>\n",
       "      <th>25%</th>\n",
       "      <td>12.950000</td>\n",
       "      <td>1.234568e+15</td>\n",
       "      <td>2.000000</td>\n",
       "      <td>0.000000</td>\n",
       "      <td>-2260.000000</td>\n",
       "      <td>9.000000</td>\n",
       "      <td>0.000000</td>\n",
       "      <td>0.000000</td>\n",
       "      <td>0.000000</td>\n",
       "      <td>0.000000</td>\n",
       "      <td>1.00000</td>\n",
       "      <td>11.000000</td>\n",
       "      <td>11.000000</td>\n",
       "      <td>0.000000</td>\n",
       "      <td>0.000000</td>\n",
       "      <td>12.950000</td>\n",
       "      <td>279.000000</td>\n",
       "    </tr>\n",
       "    <tr>\n",
       "      <th>50%</th>\n",
       "      <td>25.900000</td>\n",
       "      <td>1.234568e+15</td>\n",
       "      <td>3.000000</td>\n",
       "      <td>0.000000</td>\n",
       "      <td>1093.000000</td>\n",
       "      <td>15.000000</td>\n",
       "      <td>0.000000</td>\n",
       "      <td>1.000000</td>\n",
       "      <td>0.000000</td>\n",
       "      <td>0.000000</td>\n",
       "      <td>1.00000</td>\n",
       "      <td>14.000000</td>\n",
       "      <td>14.000000</td>\n",
       "      <td>0.000000</td>\n",
       "      <td>0.000000</td>\n",
       "      <td>25.900000</td>\n",
       "      <td>535.000000</td>\n",
       "    </tr>\n",
       "    <tr>\n",
       "      <th>75%</th>\n",
       "      <td>38.850000</td>\n",
       "      <td>1.234568e+15</td>\n",
       "      <td>3.000000</td>\n",
       "      <td>1.000000</td>\n",
       "      <td>3517.250000</td>\n",
       "      <td>20.000000</td>\n",
       "      <td>1.000000</td>\n",
       "      <td>1.000000</td>\n",
       "      <td>1.000000</td>\n",
       "      <td>0.000000</td>\n",
       "      <td>1.00000</td>\n",
       "      <td>18.000000</td>\n",
       "      <td>18.000000</td>\n",
       "      <td>0.000000</td>\n",
       "      <td>0.000000</td>\n",
       "      <td>38.850000</td>\n",
       "      <td>891.000000</td>\n",
       "    </tr>\n",
       "    <tr>\n",
       "      <th>max</th>\n",
       "      <td>59.950000</td>\n",
       "      <td>1.234568e+15</td>\n",
       "      <td>4.000000</td>\n",
       "      <td>1.000000</td>\n",
       "      <td>8169.000000</td>\n",
       "      <td>44.000000</td>\n",
       "      <td>1.000000</td>\n",
       "      <td>1.000000</td>\n",
       "      <td>1.000000</td>\n",
       "      <td>1.000000</td>\n",
       "      <td>3278.00000</td>\n",
       "      <td>23.000000</td>\n",
       "      <td>23.000000</td>\n",
       "      <td>1.000000</td>\n",
       "      <td>1.000000</td>\n",
       "      <td>59.950000</td>\n",
       "      <td>999.000000</td>\n",
       "    </tr>\n",
       "  </tbody>\n",
       "</table>\n",
       "</div>"
      ]
     },
     "execution_count": 108,
     "metadata": {},
     "output_type": "execute_result"
    }
   ],
   "source": [
    "train_df.describe()"
   ]
  },
  {
   "cell_type": "code",
   "execution_count": 75,
   "metadata": {},
   "outputs": [
    {
     "data": {
      "image/png": "[encoded data removed]",
      "text/plain": [
       "<matplotlib.figure.Figure at 0x7f6d8c9a57b8>"
      ]
     },
     "metadata": {},
     "output_type": "display_data"
    }
   ],
   "source": [
    "figure = plt.figure(figsize=(15, 8))\n",
    "plt.hist(data_df[data_df['fraud'] == 1]['amount'], bins=30)\n",
    "plt.xlabel('Amount')\n",
    "plt.ylabel('Number of transactions')\n",
    "plt.legend()"
   ]
  },
  {
   "cell_type": "code",
   "execution_count": 43,
   "metadata": {},
   "outputs": [
    {
     "data": {
      "text/plain": [
       "<matplotlib.legend.Legend at 0x7f6d95a315f8>"
      ]
     },
     "execution_count": 43,
     "metadata": {},
     "output_type": "execute_result"
    },
    {
     "data": {
      "image/png": "[encoded data removed]",
      "text/plain": [
       "<matplotlib.figure.Figure at 0x7f6d975d78d0>"
      ]
     },
     "metadata": {},
     "output_type": "display_data"
    }
   ],
   "source": [
    "figure = plt.figure(figsize=(15, 8))\n",
    "plt.hist([data_df[data_df['fraud'] == 1]['amount'], data_df[data_df['fraud'] == 0]['amount']], stacked=True,\n",
    "         color=['g', 'r'], bins=30, label=['fraud', 'not fraud'])\n",
    "plt.xlabel('Amount')\n",
    "plt.ylabel('Number of transactions')\n",
    "plt.legend()"
   ]
  },
  {
   "cell_type": "code",
   "execution_count": 30,
   "metadata": {
    "collapsed": false
   },
   "outputs": [
    {
     "data": {
      "text/plain": [
       "<matplotlib.axes._subplots.AxesSubplot at 0x7f6d95c185f8>"
      ]
     },
     "execution_count": 30,
     "metadata": {},
     "output_type": "execute_result"
    },
    {
     "data": {
      "image/png": "[encoded data removed]",
      "text/plain": [
       "<matplotlib.figure.Figure at 0x7f6d95be2080>"
      ]
     },
     "metadata": {},
     "output_type": "display_data"
    }
   ],
   "source": [
    "corr = data_df.corr()\n",
    "# Generate a mask for the upper triangle\n",
    "mask = np.zeros_like(corr, dtype=np.bool)\n",
    "mask[np.triu_indices_from(mask)] = True\n",
    "\n",
    "f, ax = plt.subplots(figsize=(15, 9))\n",
    "# Generate a custom diverging colormap\n",
    "cmap = sns.diverging_palette(220, 10, as_cmap=True)\n",
    "# Draw the heatmap with the mask and correct aspect ratio\n",
    "sns.heatmap(corr, mask=mask, cmap=cmap, vmax=.3,\n",
    "            square=True, linewidths=.5, cbar_kws={\"shrink\": .5}, ax=ax)"
   ]
  },
  {
   "cell_type": "code",
   "execution_count": 68,
   "metadata": {},
   "outputs": [
    {
     "data": {
      "text/plain": [
       "<seaborn.axisgrid.JointGrid at 0x7f6d954d99e8>"
      ]
     },
     "execution_count": 68,
     "metadata": {},
     "output_type": "execute_result"
    },
    {
     "data": {
      "image/png": "[encoded data removed]",
      "text/plain": [
       "<matplotlib.figure.Figure at 0x7f6d954d9d30>"
      ]
     },
     "metadata": {},
     "output_type": "display_data"
    }
   ],
   "source": [
    "sns.jointplot(x=\"hour_a\", y=\"hour_b\", data=data_df)"
   ]
  },
  {
   "cell_type": "code",
   "execution_count": 109,
   "metadata": {},
   "outputs": [],
   "source": [
    "combined_df = train_df.append(test_df)\n",
    "combined_df.reset_index(inplace=True)\n",
    "combined_df.drop('index', inplace=True, axis=1)"
   ]
  },
  {
   "cell_type": "code",
   "execution_count": 110,
   "metadata": {},
   "outputs": [
    {
     "name": "stdout",
     "output_type": "stream",
     "text": [
      "{'amount': False}\n{'zip': False}\n{'state': True}\n{'total': False}\n{'customerAttr_a': False}\n{'customerAttr_b': False}\n{'field_a': False}\n{'field_b': False}\n{'field_c': False}\n{'field_d': False}\n{'hour_a': False}\n{'hour_b': False}\n{'flag_a': False}\n{'flag_b': False}\n{'flag_c': False}\n{'flag_d': False}\n{'flag_e': False}\n{'indicator_a': False}\n{'indicator_b': False}\n"
     ]
    }
   ],
   "source": [
    "def check_isnull(dataframe, columns):\n",
    "    df = pd.isnull(dataframe)\n",
    "\n",
    "    for column in columns:\n",
    "        if len(df.groupby(column).size()) == 1:\n",
    "            yield {column: False}\n",
    "        else:\n",
    "            yield {column: True}\n",
    "\n",
    "# check missing values in train data\n",
    "for col in check_isnull(combined_df, ['amount', 'zip', 'state', 'total', 'customerAttr_a', 'customerAttr_b', 'field_a',\n",
    "                                   'field_b', 'field_c', 'field_d', 'hour_a', 'hour_b', 'flag_a', 'flag_b', 'flag_c',\n",
    "                                   'flag_d', 'flag_e', 'indicator_a', 'indicator_b']):\n",
    "    print(col)"
   ]
  },
  {
   "cell_type": "code",
   "execution_count": 111,
   "metadata": {},
   "outputs": [],
   "source": [
    "# impute missing value with the most frequent state\n",
    "combined_df['state'] = combined_df['state'].fillna('CA')"
   ]
  },
  {
   "cell_type": "code",
   "execution_count": 112,
   "metadata": {
    "collapsed": true
   },
   "outputs": [
    {
     "name": "stdout",
     "output_type": "stream",
     "text": [
      "<class 'pandas.core.frame.DataFrame'>\nRangeIndex: 150000 entries, 0 to 149999\nData columns (total 19 columns):\namount            150000 non-null float64\ncustomerAttr_a    150000 non-null int64\ncustomerAttr_b    150000 non-null object\nfield_a           150000 non-null int64\nfield_b           150000 non-null int64\nfield_c           150000 non-null int64\nfield_d           150000 non-null int64\nflag_a            150000 non-null int64\nflag_b            150000 non-null int64\nflag_c            150000 non-null int64\nflag_d            150000 non-null int64\nflag_e            150000 non-null int64\nhour_a            150000 non-null int64\nhour_b            150000 non-null int64\nindicator_a       150000 non-null int64\nindicator_b       150000 non-null int64\nstate             150000 non-null object\ntotal             150000 non-null float64\nzip               150000 non-null int64\ndtypes: float64(2), int64(15), object(2)\nmemory usage: 21.7+ MB\n"
     ]
    }
   ],
   "source": [
    "combined_df.info()"
   ]
  },
  {
   "cell_type": "code",
   "execution_count": 113,
   "metadata": {},
   "outputs": [],
   "source": [
    "def process_state(combined):\n",
    "    state_dummies = pd.get_dummies(combined['state'], prefix=\"state\")\n",
    "    combined = pd.concat([combined, state_dummies], axis=1)\n",
    "    # removing \"Pclass\"\n",
    "    combined.drop('state', axis=1, inplace=True)\n",
    "    return combined\n",
    "\n",
    "combined_df = process_state(combined_df)"
   ]
  },
  {
   "cell_type": "code",
   "execution_count": 114,
   "metadata": {},
   "outputs": [],
   "source": [
    "combined_df.drop('customerAttr_b', axis=1, inplace=True)"
   ]
  },
  {
   "cell_type": "code",
   "execution_count": 115,
   "metadata": {},
   "outputs": [],
   "source": [
    "def recover_train_test(combined):\n",
    "    train = combined.ix[0:train_df.shape[0]-1]\n",
    "    test = combined.ix[train_df.shape[0]:]\n",
    "\n",
    "    return train, test\n",
    "\n",
    "train_df, test_df = recover_train_test(combined_df)"
   ]
  },
  {
   "cell_type": "code",
   "execution_count": 116,
   "metadata": {},
   "outputs": [],
   "source": [
    "from sklearn.metrics import classification_report, precision_score, recall_score\n",
    "\n",
    "\n",
    "def describe(target_true, target_pred):\n",
    "    report = classification_report(target_true, target_pred)\n",
    "    print()\n",
    "    print('classification report')\n",
    "    print(report)\n",
    "    precision = precision_score(target_true, target_pred)\n",
    "    print('precision score')\n",
    "    print(precision)\n",
    "    recall = recall_score(target_true, target_pred)\n",
    "    print('recall score')\n",
    "    print(recall)"
   ]
  },
  {
   "cell_type": "code",
   "execution_count": 117,
   "metadata": {},
   "outputs": [],
   "source": [
    "from sklearn.ensemble import RandomForestClassifier\n",
    "from sklearn.model_selection import StratifiedKFold, GridSearchCV\n",
    "import xgboost as xgb"
   ]
  },
  {
   "cell_type": "code",
   "execution_count": 103,
   "metadata": {},
   "outputs": [],
   "source": [
    "from sklearn.model_selection import train_test_split\n",
    "\n",
    "X_train, X_test, y_train, y_test = train_test_split(train_df, label, test_size=0.3)"
   ]
  },
  {
   "cell_type": "code",
   "execution_count": 86,
   "metadata": {},
   "outputs": [
    {
     "name": "stderr",
     "output_type": "stream",
     "text": [
      "\nKeyboardInterrupt\n\n"
     ]
    }
   ],
   "source": [
    "forest = RandomForestClassifier()\n",
    "\n",
    "parameter_grid = {\n",
    "    'max_depth': [10, 15, 20, 50, 100],\n",
    "    'n_estimators': [100, 200, 400, 500, 600],\n",
    "    'criterion': ['gini', 'entropy']\n",
    "}\n",
    "\n",
    "cross_validation = StratifiedKFold(n_splits=5)\n",
    "\n",
    "grid_search = GridSearchCV(forest,\n",
    "                           param_grid=parameter_grid,\n",
    "                           cv=cross_validation,\n",
    "                           scoring='f1',\n",
    "                           n_jobs=3)\n",
    "\n",
    "grid_search.fit(train_df, label.values.ravel())\n",
    "\n",
    "print('Best score: {}'.format(grid_search.best_score_))\n",
    "print('Best parameters: {}'.format(grid_search.best_params_))"
   ]
  },
  {
   "cell_type": "code",
   "execution_count": 25,
   "metadata": {},
   "outputs": [
    {
     "name": "stdout",
     "output_type": "stream",
     "text": [
      "\nclassification report\n             precision    recall  f1-score   support\n\n          0       0.98      1.00      0.99     29226\n          1       0.80      0.42      0.55       774\n\navg / total       0.98      0.98      0.98     30000\n\nprecision score\n0.795620437956\nrecall score\n0.422480620155\n"
     ]
    }
   ],
   "source": [
    "forest = RandomForestClassifier(max_depth=50, n_estimators=400)\n",
    "forest.fit(X_train, y_train)\n",
    "\n",
    "y_pred = forest.predict(X_test)\n",
    "describe(y_test, y_pred)"
   ]
  },
  {
   "cell_type": "code",
   "execution_count": 19,
   "metadata": {},
   "outputs": [
    {
     "name": "stderr",
     "output_type": "stream",
     "text": [
      "/home/siavash/anaconda3/envs/ml/lib/python3.6/site-packages/sklearn/cross_validation.py:44: DeprecationWarning: This module was deprecated in version 0.18 in favor of the model_selection module into which all the refactored classes and functions are moved. Also note that the interface of the new CV iterators are different from that of this module. This module will be removed in 0.20.\n  \"This module will be removed in 0.20.\", DeprecationWarning)\n"
     ]
    },
    {
     "name": "stdout",
     "output_type": "stream",
     "text": [
      "Best score: 0.5677635890077481\nBest parameters: {'learning_rate': 0.3, 'max_depth': 10, 'n_estimators': 240, 'reg_lambda': 0.01}\n"
     ]
    }
   ],
   "source": [
    "gbm = xgb.XGBClassifier()\n",
    "\n",
    "parameter_grid = {\n",
    "    'learning_rate': [0.01, 0.03, 0.1, 0.3],\n",
    "    'max_depth': [1, 4, 5, 7, 10],\n",
    "    'reg_lambda': [0.01, 0.03, 0.1, 0.2, 0.5],\n",
    "    'n_estimators': [60, 120, 240],\n",
    "}\n",
    "\n",
    "cross_validation = StratifiedKFold(n_splits=5)\n",
    "\n",
    "grid_search = GridSearchCV(gbm,\n",
    "                           param_grid=parameter_grid,\n",
    "                           cv=cross_validation,\n",
    "                           scoring='f1',\n",
    "                           n_jobs=3)\n",
    "\n",
    "grid_search.fit(X_train, y_train.values.ravel())\n",
    "\n",
    "print('Best score: {}'.format(grid_search.best_score_))\n",
    "print('Best parameters: {}'.format(grid_search.best_params_))"
   ]
  },
  {
   "cell_type": "code",
   "execution_count": 118,
   "metadata": {},
   "outputs": [
    {
     "name": "stdout",
     "output_type": "stream",
     "text": [
      "\nclassification report\n             precision    recall  f1-score   support\n\n          0       0.99      1.00      0.99     29226\n          1       0.79      0.48      0.59       774\n\navg / total       0.98      0.98      0.98     30000\n\nprecision score\n0.789699570815\nrecall score\n0.475452196382\n"
     ]
    }
   ],
   "source": [
    "gbm = xgb.XGBClassifier(max_depth=10, n_estimators=210, reg_lambda=0.01, learning_rate=0.3)\n",
    "gbm.fit(X_train, y_train)\n",
    "\n",
    "y_pred = gbm.predict(X_test)\n",
    "describe(y_test, y_pred)"
   ]
  },
  {
   "cell_type": "code",
   "execution_count": 47,
   "metadata": {},
   "outputs": [],
   "source": [
    "import math\n",
    "from sklearn.utils import shuffle\n",
    "\n",
    "\n",
    "def split_abundant_target(data_df, ratio):\n",
    "    data_df = shuffle(data_df)\n",
    "    part_size = math.ceil(data_df.shape[0] / ratio)\n",
    "    for i in range(0, ratio):\n",
    "        yield data_df[i * part_size:min((i + 1) * part_size, data_df.shape[0])]\n",
    "\n",
    "        \n",
    "def data_target(data, target_name):\n",
    "    data = data.astype('float32')\n",
    "    target = data[target_name]\n",
    "    data = data.drop(target_name, axis=1)\n",
    "    return data, target"
   ]
  },
  {
   "cell_type": "code",
   "execution_count": 52,
   "metadata": {},
   "outputs": [
    {
     "name": "stdout",
     "output_type": "stream",
     "text": [
      "(2631, 72)\n(2654, 72)\n"
     ]
    },
    {
     "name": "stdout",
     "output_type": "stream",
     "text": [
      "\nclassification report\n             precision    recall  f1-score   support\n\n          0       0.98      1.00      0.99     29192\n          1       0.83      0.27      0.41       808\n\navg / total       0.98      0.98      0.97     30000\n\nprecision score\n0.828244274809\nrecall score\n0.268564356436\n(2631, 72)\n(2654, 72)\n"
     ]
    },
    {
     "name": "stdout",
     "output_type": "stream",
     "text": [
      "\nclassification report\n             precision    recall  f1-score   support\n\n          0       0.98      1.00      0.99     29215\n          1       0.79      0.27      0.40       785\n\navg / total       0.98      0.98      0.97     30000\n\nprecision score\n0.788104089219\nrecall score\n0.270063694268\n(2631, 72)\n(2654, 72)\n"
     ]
    },
    {
     "name": "stdout",
     "output_type": "stream",
     "text": [
      "\nclassification report\n             precision    recall  f1-score   support\n\n          0       0.98      1.00      0.99     29273\n          1       0.82      0.26      0.39       727\n\navg / total       0.98      0.98      0.98     30000\n\nprecision score\n0.823008849558\nrecall score\n0.255845942228\n(2631, 72)\n(2654, 72)\n"
     ]
    },
    {
     "name": "stdout",
     "output_type": "stream",
     "text": [
      "\nclassification report\n             precision    recall  f1-score   support\n\n          0       0.98      1.00      0.99     29226\n          1       0.82      0.27      0.41       774\n\navg / total       0.98      0.98      0.97     30000\n\nprecision score\n0.821011673152\nrecall score\n0.272609819121\n(2631, 72)\n(2654, 72)\n"
     ]
    },
    {
     "name": "stdout",
     "output_type": "stream",
     "text": [
      "\nclassification report\n             precision    recall  f1-score   support\n\n          0       0.98      1.00      0.99     29202\n          1       0.80      0.25      0.39       798\n\navg / total       0.98      0.98      0.97     30000\n\nprecision score\n0.796078431373\nrecall score\n0.254385964912\n(2631, 72)\n(2654, 72)\n"
     ]
    },
    {
     "name": "stdout",
     "output_type": "stream",
     "text": [
      "\nclassification report\n             precision    recall  f1-score   support\n\n          0       0.98      1.00      0.99     29180\n          1       0.83      0.26      0.39       820\n\navg / total       0.98      0.98      0.97     30000\n\nprecision score\n0.828125\nrecall score\n0.258536585366\n(2631, 72)\n(2654, 72)\n"
     ]
    },
    {
     "name": "stdout",
     "output_type": "stream",
     "text": [
      "\nclassification report\n             precision    recall  f1-score   support\n\n          0       0.98      1.00      0.99     29189\n          1       0.83      0.26      0.40       811\n\navg / total       0.98      0.98      0.97     30000\n\nprecision score\n0.83203125\nrecall score\n0.262638717633\n(2631, 72)\n(2654, 72)\n"
     ]
    },
    {
     "name": "stdout",
     "output_type": "stream",
     "text": [
      "\nclassification report\n             precision    recall  f1-score   support\n\n          0       0.98      1.00      0.99     29206\n          1       0.81      0.25      0.39       794\n\navg / total       0.98      0.98      0.97     30000\n\nprecision score\n0.81124497992\nrecall score\n0.254408060453\n(2631, 72)\n(2654, 72)\n"
     ]
    },
    {
     "name": "stdout",
     "output_type": "stream",
     "text": [
      "\nclassification report\n             precision    recall  f1-score   support\n\n          0       0.98      1.00      0.99     29200\n          1       0.83      0.26      0.40       800\n\navg / total       0.98      0.98      0.97     30000\n\nprecision score\n0.834677419355\nrecall score\n0.25875\n(2631, 72)\n(2654, 72)\n"
     ]
    },
    {
     "name": "stdout",
     "output_type": "stream",
     "text": [
      "\nclassification report\n             precision    recall  f1-score   support\n\n          0       0.98      1.00      0.99     29221\n          1       0.81      0.26      0.39       779\n\navg / total       0.98      0.98      0.97     30000\n\nprecision score\n0.808\nrecall score\n0.259306803594\n(2631, 72)\n(2654, 72)\n"
     ]
    },
    {
     "name": "stdout",
     "output_type": "stream",
     "text": [
      "\nclassification report\n             precision    recall  f1-score   support\n\n          0       0.98      1.00      0.99     29226\n          1       0.83      0.27      0.41       774\n\navg / total       0.98      0.98      0.97     30000\n\nprecision score\n0.829365079365\nrecall score\n0.270025839793\n(2631, 72)\n(2654, 72)\n"
     ]
    },
    {
     "name": "stdout",
     "output_type": "stream",
     "text": [
      "\nclassification report\n             precision    recall  f1-score   support\n\n          0       0.98      1.00      0.99     29222\n          1       0.83      0.26      0.39       778\n\navg / total       0.98      0.98      0.97     30000\n\nprecision score\n0.832635983264\nrecall score\n0.255784061697\n(2631, 72)\n(2654, 72)\n"
     ]
    },
    {
     "name": "stdout",
     "output_type": "stream",
     "text": [
      "\nclassification report\n             precision    recall  f1-score   support\n\n          0       0.98      1.00      0.99     29193\n          1       0.81      0.25      0.38       807\n\navg / total       0.98      0.98      0.97     30000\n\nprecision score\n0.813765182186\nrecall score\n0.24907063197\n(2631, 72)\n(2654, 72)\n"
     ]
    },
    {
     "name": "stdout",
     "output_type": "stream",
     "text": [
      "\nclassification report\n             precision    recall  f1-score   support\n\n          0       0.98      1.00      0.99     29188\n          1       0.83      0.28      0.41       812\n\navg / total       0.98      0.98      0.97     30000\n\nprecision score\n0.832713754647\nrecall score\n0.275862068966\n(2631, 72)\n(2654, 72)\n"
     ]
    },
    {
     "name": "stdout",
     "output_type": "stream",
     "text": [
      "\nclassification report\n             precision    recall  f1-score   support\n\n          0       0.98      1.00      0.99     29262\n          1       0.80      0.27      0.41       738\n\navg / total       0.98      0.98      0.98     30000\n\nprecision score\n0.801587301587\nrecall score\n0.273712737127\n(2631, 72)\n(2654, 72)\n"
     ]
    },
    {
     "name": "stdout",
     "output_type": "stream",
     "text": [
      "\nclassification report\n             precision    recall  f1-score   support\n\n          0       0.98      1.00      0.99     29216\n          1       0.84      0.26      0.39       784\n\navg / total       0.98      0.98      0.97     30000\n\nprecision score\n0.8375\nrecall score\n0.25637755102\n(2631, 72)\n(2654, 72)\n"
     ]
    },
    {
     "name": "stdout",
     "output_type": "stream",
     "text": [
      "\nclassification report\n             precision    recall  f1-score   support\n\n          0       0.98      1.00      0.99     29179\n          1       0.83      0.28      0.41       821\n\navg / total       0.98      0.98      0.97     30000\n\nprecision score\n0.825454545455\nrecall score\n0.276492082826\n(2631, 72)\n(2654, 72)\n"
     ]
    },
    {
     "name": "stdout",
     "output_type": "stream",
     "text": [
      "\nclassification report\n             precision    recall  f1-score   support\n\n          0       0.98      1.00      0.99     29207\n          1       0.79      0.27      0.41       793\n\navg / total       0.98      0.98      0.97     30000\n\nprecision score\n0.792727272727\nrecall score\n0.274905422446\n(2631, 72)\n(2654, 72)\n"
     ]
    },
    {
     "name": "stdout",
     "output_type": "stream",
     "text": [
      "\nclassification report\n             precision    recall  f1-score   support\n\n          0       0.98      1.00      0.99     29193\n          1       0.84      0.25      0.38       807\n\navg / total       0.98      0.98      0.97     30000\n\nprecision score\n0.8410041841\nrecall score\n0.24907063197\n(2631, 72)\n(2654, 72)\n"
     ]
    },
    {
     "name": "stdout",
     "output_type": "stream",
     "text": [
      "\nclassification report\n             precision    recall  f1-score   support\n\n          0       0.98      1.00      0.99     29210\n          1       0.81      0.27      0.40       790\n\navg / total       0.98      0.98      0.97     30000\n\nprecision score\n0.80534351145\nrecall score\n0.267088607595\n(2631, 72)\n(2654, 72)\n"
     ]
    },
    {
     "name": "stdout",
     "output_type": "stream",
     "text": [
      "\nclassification report\n             precision    recall  f1-score   support\n\n          0       0.98      1.00      0.99     29195\n          1       0.82      0.28      0.42       805\n\navg / total       0.98      0.98      0.97     30000\n\nprecision score\n0.822463768116\nrecall score\n0.28198757764\n(2631, 72)\n(2654, 72)\n"
     ]
    },
    {
     "name": "stdout",
     "output_type": "stream",
     "text": [
      "\nclassification report\n             precision    recall  f1-score   support\n\n          0       0.98      1.00      0.99     29161\n          1       0.83      0.26      0.40       839\n\navg / total       0.98      0.98      0.97     30000\n\nprecision score\n0.833962264151\nrecall score\n0.263408820024\n(2631, 72)\n(2654, 72)\n"
     ]
    },
    {
     "name": "stdout",
     "output_type": "stream",
     "text": [
      "\nclassification report\n             precision    recall  f1-score   support\n\n          0       0.98      1.00      0.99     29220\n          1       0.80      0.25      0.38       780\n\navg / total       0.98      0.98      0.97     30000\n\nprecision score\n0.804166666667\nrecall score\n0.247435897436\n(2631, 72)\n(2654, 72)\n"
     ]
    },
    {
     "name": "stdout",
     "output_type": "stream",
     "text": [
      "\nclassification report\n             precision    recall  f1-score   support\n\n          0       0.98      1.00      0.99     29214\n          1       0.83      0.26      0.40       786\n\navg / total       0.98      0.98      0.97     30000\n\nprecision score\n0.833333333333\nrecall score\n0.260814249364\n(2631, 72)\n(2654, 72)\n"
     ]
    },
    {
     "name": "stdout",
     "output_type": "stream",
     "text": [
      "\nclassification report\n             precision    recall  f1-score   support\n\n          0       0.98      1.00      0.99     29196\n          1       0.85      0.25      0.39       804\n\navg / total       0.98      0.98      0.97     30000\n\nprecision score\n0.850622406639\nrecall score\n0.254975124378\n(2631, 72)\n(2654, 72)\n"
     ]
    },
    {
     "name": "stdout",
     "output_type": "stream",
     "text": [
      "\nclassification report\n             precision    recall  f1-score   support\n\n          0       0.98      1.00      0.99     29255\n          1       0.80      0.27      0.40       745\n\navg / total       0.98      0.98      0.98     30000\n\nprecision score\n0.795275590551\nrecall score\n0.271140939597\n(2631, 72)\n(2654, 72)\n"
     ]
    },
    {
     "name": "stdout",
     "output_type": "stream",
     "text": [
      "\nclassification report\n             precision    recall  f1-score   support\n\n          0       0.98      1.00      0.99     29224\n          1       0.82      0.25      0.38       776\n\navg / total       0.98      0.98      0.97     30000\n\nprecision score\n0.820512820513\nrecall score\n0.247422680412\n(2631, 72)\n(2654, 72)\n"
     ]
    },
    {
     "name": "stdout",
     "output_type": "stream",
     "text": [
      "\nclassification report\n             precision    recall  f1-score   support\n\n          0       0.98      1.00      0.99     29214\n          1       0.82      0.25      0.38       786\n\navg / total       0.98      0.98      0.97     30000\n\nprecision score\n0.818565400844\nrecall score\n0.246819338422\n(2631, 72)\n(2654, 72)\n"
     ]
    },
    {
     "name": "stdout",
     "output_type": "stream",
     "text": [
      "\nclassification report\n             precision    recall  f1-score   support\n\n          0       0.98      1.00      0.99     29196\n          1       0.82      0.26      0.39       804\n\navg / total       0.98      0.98      0.97     30000\n\nprecision score\n0.819607843137\nrecall score\n0.259950248756\n(2631, 72)\n(2654, 72)\n"
     ]
    },
    {
     "name": "stdout",
     "output_type": "stream",
     "text": [
      "\nclassification report\n             precision    recall  f1-score   support\n\n          0       0.98      1.00      0.99     29227\n          1       0.80      0.26      0.39       773\n\navg / total       0.98      0.98      0.97     30000\n\nprecision score\n0.796812749004\nrecall score\n0.25873221216\n(2631, 72)\n(2654, 72)\n"
     ]
    },
    {
     "name": "stdout",
     "output_type": "stream",
     "text": [
      "\nclassification report\n             precision    recall  f1-score   support\n\n          0       0.98      1.00      0.99     29164\n          1       0.84      0.26      0.40       836\n\navg / total       0.98      0.98      0.97     30000\n\nprecision score\n0.842307692308\nrecall score\n0.261961722488\n(2631, 72)\n(2654, 72)\n"
     ]
    },
    {
     "name": "stdout",
     "output_type": "stream",
     "text": [
      "\nclassification report\n             precision    recall  f1-score   support\n\n          0       0.98      1.00      0.99     29213\n          1       0.82      0.26      0.39       787\n\navg / total       0.98      0.98      0.97     30000\n\nprecision score\n0.818548387097\nrecall score\n0.257941550191\n(2631, 72)\n(2654, 72)\n"
     ]
    },
    {
     "name": "stdout",
     "output_type": "stream",
     "text": [
      "\nclassification report\n             precision    recall  f1-score   support\n\n          0       0.98      1.00      0.99     29224\n          1       0.82      0.25      0.39       776\n\navg / total       0.98      0.98      0.97     30000\n\nprecision score\n0.824267782427\nrecall score\n0.253865979381\n(2631, 72)\n(2654, 72)\n"
     ]
    },
    {
     "name": "stdout",
     "output_type": "stream",
     "text": [
      "\nclassification report\n             precision    recall  f1-score   support\n\n          0       0.98      1.00      0.99     29181\n          1       0.82      0.27      0.40       819\n\navg / total       0.98      0.98      0.97     30000\n\nprecision score\n0.822641509434\nrecall score\n0.266178266178\n(2631, 72)\n(2654, 72)\n"
     ]
    },
    {
     "name": "stdout",
     "output_type": "stream",
     "text": [
      "\nclassification report\n             precision    recall  f1-score   support\n\n          0       0.98      1.00      0.99     29208\n          1       0.81      0.25      0.38       792\n\navg / total       0.98      0.98      0.97     30000\n\nprecision score\n0.80737704918\nrecall score\n0.248737373737\n(2631, 72)\n(2654, 72)\n"
     ]
    },
    {
     "name": "stdout",
     "output_type": "stream",
     "text": [
      "\nclassification report\n             precision    recall  f1-score   support\n\n          0       0.98      1.00      0.99     29210\n          1       0.82      0.26      0.40       790\n\navg / total       0.98      0.98      0.97     30000\n\nprecision score\n0.820717131474\nrecall score\n0.260759493671\n(2630, 72)\n(2654, 72)\n"
     ]
    },
    {
     "name": "stdout",
     "output_type": "stream",
     "text": [
      "\nclassification report\n             precision    recall  f1-score   support\n\n          0       0.98      1.00      0.99     29211\n          1       0.79      0.23      0.36       789\n\navg / total       0.97      0.98      0.97     30000\n\nprecision score\n0.7903930131\nrecall score\n0.229404309252\n"
     ]
    }
   ],
   "source": [
    "data_df = pd.concat([train_df, label], axis=1)\n",
    "\n",
    "one_df = data_df[data_df['fraud'] == 1]\n",
    "zero_df = data_df[data_df['fraud'] == 0]\n",
    "class_ratio = round(zero_df.shape[0] / one_df.shape[0])\n",
    "class_ratio\n",
    "\n",
    "for zero_df in split_abundant_target(zero_df, class_ratio):\n",
    "    print(zero_df.shape)\n",
    "    print(one_df.shape)\n",
    "    data, target = data_target(pd.concat([one_df, zero_df]), 'fraud')\n",
    "\n",
    "    X_train, X_test, y_train, y_test = train_test_split(train_df, label, test_size=0.3)\n",
    "\n",
    "    forest = RandomForestClassifier(max_features='sqrt', max_depth=8, n_estimators=210)\n",
    "    forest.fit(X_train, y_train)\n",
    "    y_pred = forest.predict(X_test)\n",
    "    describe(y_test, y_pred)"
   ]
  }
 ],
 "metadata": {
  "kernelspec": {
   "display_name": "Python 2",
   "language": "python",
   "name": "python2"
  },
  "language_info": {
   "codemirror_mode": {
    "name": "ipython",
    "version": 2.0
   },
   "file_extension": ".py",
   "mimetype": "text/x-python",
   "name": "python",
   "nbconvert_exporter": "python",
   "pygments_lexer": "ipython2",
   "version": "2.7.6"
  }
 },
 "nbformat": 4,
 "nbformat_minor": 0
}